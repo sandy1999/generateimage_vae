{
 "cells": [
  {
   "cell_type": "code",
   "execution_count": 1,
   "metadata": {},
   "outputs": [],
   "source": [
    "# import libs \n",
    "import tensorflow as tf # for deep learning \n",
    "\n",
    "# helper libs \n",
    "import numpy as np # for matrix multiplication "
   ]
  },
  {
   "cell_type": "code",
   "execution_count": 3,
   "metadata": {},
   "outputs": [
    {
     "name": "stdout",
     "output_type": "stream",
     "text": [
      "WARNING:tensorflow:From <ipython-input-3-b1b7ddba7966>:4: read_data_sets (from tensorflow.contrib.learn.python.learn.datasets.mnist) is deprecated and will be removed in a future version.\n",
      "Instructions for updating:\n",
      "Please use alternatives such as official/mnist/dataset.py from tensorflow/models.\n",
      "WARNING:tensorflow:From C:\\ProgramData\\Anaconda3\\lib\\site-packages\\tensorflow\\contrib\\learn\\python\\learn\\datasets\\mnist.py:260: maybe_download (from tensorflow.contrib.learn.python.learn.datasets.base) is deprecated and will be removed in a future version.\n",
      "Instructions for updating:\n",
      "Please write your own downloading logic.\n",
      "WARNING:tensorflow:From C:\\ProgramData\\Anaconda3\\lib\\site-packages\\tensorflow\\contrib\\learn\\python\\learn\\datasets\\mnist.py:262: extract_images (from tensorflow.contrib.learn.python.learn.datasets.mnist) is deprecated and will be removed in a future version.\n",
      "Instructions for updating:\n",
      "Please use tf.data to implement this functionality.\n",
      "Extracting ./data/MNIST/train-images-idx3-ubyte.gz\n",
      "WARNING:tensorflow:From C:\\ProgramData\\Anaconda3\\lib\\site-packages\\tensorflow\\contrib\\learn\\python\\learn\\datasets\\mnist.py:267: extract_labels (from tensorflow.contrib.learn.python.learn.datasets.mnist) is deprecated and will be removed in a future version.\n",
      "Instructions for updating:\n",
      "Please use tf.data to implement this functionality.\n",
      "Extracting ./data/MNIST/train-labels-idx1-ubyte.gz\n",
      "WARNING:tensorflow:From C:\\ProgramData\\Anaconda3\\lib\\site-packages\\tensorflow\\contrib\\learn\\python\\learn\\datasets\\mnist.py:110: dense_to_one_hot (from tensorflow.contrib.learn.python.learn.datasets.mnist) is deprecated and will be removed in a future version.\n",
      "Instructions for updating:\n",
      "Please use tf.one_hot on tensors.\n",
      "Extracting ./data/MNIST/t10k-images-idx3-ubyte.gz\n",
      "Extracting ./data/MNIST/t10k-labels-idx1-ubyte.gz\n",
      "WARNING:tensorflow:From C:\\ProgramData\\Anaconda3\\lib\\site-packages\\tensorflow\\contrib\\learn\\python\\learn\\datasets\\mnist.py:290: DataSet.__init__ (from tensorflow.contrib.learn.python.learn.datasets.mnist) is deprecated and will be removed in a future version.\n",
      "Instructions for updating:\n",
      "Please use alternatives such as official/mnist/dataset.py from tensorflow/models.\n"
     ]
    }
   ],
   "source": [
    "# import datset \n",
    "from tensorflow.examples.tutorials.mnist import input_data\n",
    "\n",
    "mnist = input_data.read_data_sets('./data/MNIST/', one_hot=True)"
   ]
  },
  {
   "cell_type": "code",
   "execution_count": 7,
   "metadata": {},
   "outputs": [],
   "source": [
    "# helper funtion for variables \n",
    "def weights_variable(shape):\n",
    "    inital = tf.truncated_normal(shape, stddev=0.1)\n",
    "    return tf.Variable(inital, name=\"W\")\n",
    "\n",
    "def biases_variable(shape):\n",
    "    inital = tf.truncated_normal(shape, stddev=0.1)\n",
    "    return tf.Variable(inital, name=\"B\")\n",
    "\n",
    "def FC_layer(X, W, B):\n",
    "    return tf.matmul(X,W) + B"
   ]
  },
  {
   "cell_type": "code",
   "execution_count": 5,
   "metadata": {},
   "outputs": [],
   "source": [
    "# define placeholder for input as x \n",
    "pixels_dim = 28 * 28\n",
    "\n",
    "# input placeholder for image\n",
    "X = tf.placeholder(tf.float32, shape=[None, pixels_dim])"
   ]
  },
  {
   "cell_type": "code",
   "execution_count": 8,
   "metadata": {},
   "outputs": [],
   "source": [
    "# encoder part \n",
    "latent_dim = 20\n",
    "h_dim = 500\n",
    "\n",
    "# layer 1\n",
    "with tf.name_scope(\"encoder\"):\n",
    "    w_enc = weights_variable([pixels_dim, h_dim])\n",
    "    b_enc = biases_variable([h_dim])\n",
    "    \n",
    "    h_enc = tf.nn.tanh(FC_layer(X, w_enc, b_enc))\n",
    "    \n",
    "    # write summary for the encoder \n",
    "    tf.summary.histogram(\"weights\", w_enc)\n",
    "    tf.summary.histogram(\"biases\", b_enc)\n",
    "    tf.summary.histogram(\"activation\", h_enc)\n",
    "    \n",
    "# layer 2 \n",
    "with tf.name_scope(\"mean\"):\n",
    "    w_mu = weights_variable([h_dim, latent_dim])\n",
    "    b_mu = biases_variable([latent_dim])\n",
    "    \n",
    "    mu = FC_layer(h_enc, w_mu, b_mu) # mean\n",
    "    \n",
    "    # write summary for the mean values \n",
    "    tf.summary.histogram(\"weights\", w_mu)\n",
    "    tf.summary.histogram(\"biases\",b_mu)\n",
    "    \n",
    "# layer 3 for std \n",
    "with tf.name_scope(\"std\"):\n",
    "    w_std = weights_variable([h_dim, latent_dim])\n",
    "    b_std = biases_variable([latent_dim])\n",
    "    \n",
    "    logstd = FC_layer(h_enc, w_std, b_std)\n",
    "    \n",
    "    # write summary for the model \n",
    "    tf.summary.histogram(\"weights\", w_std)\n",
    "    tf.summary.histogram(\"biases\", b_std)\n",
    "    \n",
    "# final output layer \n",
    "with tf.name_scope(\"enc_noise\"):\n",
    "    noise = tf.random_normal(shape=[1, latent_dim])\n",
    "    \n",
    "    z = mu + tf.multiply(noise, tf.exp(-5 * logstd))\n",
    "    \n",
    "    tf.summary.histogram(\"output\", z)"
   ]
  },
  {
   "cell_type": "code",
   "execution_count": null,
   "metadata": {},
   "outputs": [],
   "source": []
  }
 ],
 "metadata": {
  "kernelspec": {
   "display_name": "Python 3",
   "language": "python",
   "name": "python3"
  },
  "language_info": {
   "codemirror_mode": {
    "name": "ipython",
    "version": 3
   },
   "file_extension": ".py",
   "mimetype": "text/x-python",
   "name": "python",
   "nbconvert_exporter": "python",
   "pygments_lexer": "ipython3",
   "version": "3.6.7"
  }
 },
 "nbformat": 4,
 "nbformat_minor": 2
}
